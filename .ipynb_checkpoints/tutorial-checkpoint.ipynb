{
 "cells": [
  {
   "cell_type": "markdown",
   "id": "daaba60b-59e9-4eaa-8af8-0626f711c3b8",
   "metadata": {},
   "source": [
    "# Introduction to using Pathetique"
   ]
  },
  {
   "cell_type": "markdown",
   "id": "be658ed2-4882-4101-80bd-3108fcd429fb",
   "metadata": {},
   "source": [
    "## Installation\n",
    "\n",
    "From a REPL, enter package mode with `]`. Once there, call:\n",
    "\n",
    "```\n",
    "pkg> add https://github.com/albi3ro/Pathetique.jl.git\n",
    "```\n",
    "\n",
    "Press backspace to leave package mode."
   ]
  },
  {
   "cell_type": "code",
   "execution_count": 1,
   "id": "392bfb01-b7d4-4098-840a-61fbf3ba1a68",
   "metadata": {},
   "outputs": [
    {
     "name": "stderr",
     "output_type": "stream",
     "text": [
      "┌ Info: Precompiling Pathetique [ccb82250-a568-43fd-8f6c-4b2335e32432]\n",
      "└ @ Base loading.jl:1317\n"
     ]
    },
    {
     "name": "stdout",
     "output_type": "stream",
     "text": [
      "moduled executed"
     ]
    }
   ],
   "source": [
    "using Pathetique"
   ]
  },
  {
   "cell_type": "markdown",
   "id": "29a6b0dd-32e8-466c-9d7c-814c0ac3807c",
   "metadata": {},
   "source": [
    "## Operations\n",
    "\n",
    "`Operation` is a abstract type.\n",
    "\n",
    "Each *concrete* type is a struct that can hold parameters, qubits, or nested operations.\n",
    "\n",
    "Qubits are denoted by integers of type `Int8`. Best to keep these small, as the size of the statevector is determined by the largest qubit in the circuit."
   ]
  },
  {
   "cell_type": "code",
   "execution_count": 2,
   "id": "6e7cd745-a686-46ee-a94b-5b30d7a2312c",
   "metadata": {},
   "outputs": [
    {
     "data": {
      "text/plain": [
       "X(1)"
      ]
     },
     "execution_count": 2,
     "metadata": {},
     "output_type": "execute_result"
    }
   ],
   "source": [
    "op = X(1)\n",
    "op"
   ]
  },
  {
   "cell_type": "code",
   "execution_count": 3,
   "id": "18c15af8-aac2-42e1-9748-30cb67bf6506",
   "metadata": {},
   "outputs": [
    {
     "data": {
      "text/plain": [
       "X"
      ]
     },
     "execution_count": 3,
     "metadata": {},
     "output_type": "execute_result"
    }
   ],
   "source": [
    "typeof(op)"
   ]
  },
  {
   "cell_type": "code",
   "execution_count": 4,
   "id": "7ef85bdf-fd36-4ae9-8e60-79f5bedfa56a",
   "metadata": {},
   "outputs": [
    {
     "data": {
      "text/plain": [
       "true"
      ]
     },
     "execution_count": 4,
     "metadata": {},
     "output_type": "execute_result"
    }
   ],
   "source": [
    "op isa Operation"
   ]
  },
  {
   "cell_type": "markdown",
   "id": "a4359dc2-bb15-4534-91ea-6006c7f6e6e1",
   "metadata": {},
   "source": [
    "Let's see some other Gates:"
   ]
  },
  {
   "cell_type": "code",
   "execution_count": 5,
   "id": "fcf3e2dd-d600-4038-9613-cfdd785c7a6b",
   "metadata": {},
   "outputs": [
    {
     "data": {
      "text/plain": [
       "Z(2)"
      ]
     },
     "execution_count": 5,
     "metadata": {},
     "output_type": "execute_result"
    }
   ],
   "source": [
    "Z(2)"
   ]
  },
  {
   "cell_type": "code",
   "execution_count": 6,
   "id": "29106ce8-0b86-4103-90ea-918e803a3fd7",
   "metadata": {},
   "outputs": [
    {
     "data": {
      "text/plain": [
       "RX(1.23, 1)"
      ]
     },
     "execution_count": 6,
     "metadata": {},
     "output_type": "execute_result"
    }
   ],
   "source": [
    "RX(1.23, 1)"
   ]
  },
  {
   "cell_type": "code",
   "execution_count": 7,
   "id": "66528e9e-c2bc-496d-92e5-ed9b9ce29e93",
   "metadata": {},
   "outputs": [
    {
     "data": {
      "text/plain": [
       "IsingXX(2.34, Int8[1, 2])"
      ]
     },
     "execution_count": 7,
     "metadata": {},
     "output_type": "execute_result"
    }
   ],
   "source": [
    "IsingXX(2.34, [1,2])"
   ]
  },
  {
   "cell_type": "code",
   "execution_count": 8,
   "id": "bde04151-9e3a-4ce3-a0c8-1a7224168892",
   "metadata": {},
   "outputs": [
    {
     "name": "stdout",
     "output_type": "stream",
     "text": [
      "IsingXX\n",
      "  parameters: Float64 2.34\n",
      "  qubits: Array{Int8}((2,)) Int8[1, 2]\n"
     ]
    }
   ],
   "source": [
    "dump(IsingXX(2.34, [1,2]))"
   ]
  },
  {
   "cell_type": "markdown",
   "id": "21fa3694-0cbf-4adf-bb66-47c8da24fce8",
   "metadata": {},
   "source": [
    "Current Full List of Operations:\n",
    "`X`, `Y`, `Z`, `RX`, `RY`, `RZ`, `IsingXX`, `IsingYY`, `IsingZZ`"
   ]
  },
  {
   "cell_type": "markdown",
   "id": "3b69b7f5-788a-40b8-b5c0-5b9e623f8a33",
   "metadata": {},
   "source": [
    "### The \"Nested\" Operations\n",
    "\n",
    "Controlled Gates"
   ]
  },
  {
   "cell_type": "code",
   "execution_count": 9,
   "id": "fe4a0bd4-e481-44ad-9730-1d8d09b828e6",
   "metadata": {},
   "outputs": [
    {
     "data": {
      "text/plain": [
       "C2 X(1)"
      ]
     },
     "execution_count": 9,
     "metadata": {},
     "output_type": "execute_result"
    }
   ],
   "source": [
    "op = Controlled(X(1), 2)"
   ]
  },
  {
   "cell_type": "code",
   "execution_count": 10,
   "id": "ae30253f-4db3-4036-b0a7-e90ffb0df89b",
   "metadata": {},
   "outputs": [
    {
     "name": "stdout",
     "output_type": "stream",
     "text": [
      "Controlled\n",
      "  base: X\n",
      "    qubits: Int8 1\n",
      "  qubits: Array{Int8}((1,)) Int8[2]\n"
     ]
    }
   ],
   "source": [
    "dump(op)"
   ]
  },
  {
   "cell_type": "code",
   "execution_count": 11,
   "id": "8bc361a4-20d9-458c-9014-2967e72fe1fd",
   "metadata": {},
   "outputs": [
    {
     "data": {
      "text/plain": [
       "C[1, 2] X(3)"
      ]
     },
     "execution_count": 11,
     "metadata": {},
     "output_type": "execute_result"
    }
   ],
   "source": [
    "Controlled(X(3), [1,2])"
   ]
  },
  {
   "cell_type": "markdown",
   "id": "6fb8e38b-9ea6-4113-98aa-c4ee2711731b",
   "metadata": {},
   "source": [
    "Adjoint Gates"
   ]
  },
  {
   "cell_type": "code",
   "execution_count": 12,
   "id": "ea5547c7-782a-4e3d-8ff7-9d2697d635bf",
   "metadata": {},
   "outputs": [
    {
     "data": {
      "text/plain": [
       "RX(1.23, 1)'"
      ]
     },
     "execution_count": 12,
     "metadata": {},
     "output_type": "execute_result"
    }
   ],
   "source": [
    "RX(1.23, 1)'"
   ]
  },
  {
   "cell_type": "code",
   "execution_count": 13,
   "id": "f04df576-ea4f-43ea-b836-a9c028e63a26",
   "metadata": {},
   "outputs": [
    {
     "data": {
      "text/plain": [
       "RX(1.23, 1)'"
      ]
     },
     "execution_count": 13,
     "metadata": {},
     "output_type": "execute_result"
    }
   ],
   "source": [
    "adjoint(RX(1.23, 1))"
   ]
  },
  {
   "cell_type": "code",
   "execution_count": 26,
   "id": "9f303d5e-5c30-4781-a57e-ed0bf148f598",
   "metadata": {},
   "outputs": [
    {
     "name": "stdout",
     "output_type": "stream",
     "text": [
      "Pathetique.Gates.Adjoint\n",
      "  base: RX\n",
      "    parameters: Float64 1.23\n",
      "    qubits: Int8 1\n"
     ]
    }
   ],
   "source": [
    "dump(RX(1.23,1)')"
   ]
  },
  {
   "cell_type": "markdown",
   "id": "d995caa7-49ca-4543-8563-68b49c46f47d",
   "metadata": {},
   "source": [
    "Adjoint of Pauli Gates are just themselves"
   ]
  },
  {
   "cell_type": "code",
   "execution_count": 25,
   "id": "8ec30d0e-ddb1-405b-a262-4ecf7ccc9b78",
   "metadata": {},
   "outputs": [
    {
     "data": {
      "text/plain": [
       "X(1)"
      ]
     },
     "execution_count": 25,
     "metadata": {},
     "output_type": "execute_result"
    }
   ],
   "source": [
    "X(1)'"
   ]
  },
  {
   "cell_type": "markdown",
   "id": "bc833640-d23f-48b7-beb9-fd8a7cf42db1",
   "metadata": {},
   "source": [
    "You can stack any amount of nested Operations:"
   ]
  },
  {
   "cell_type": "code",
   "execution_count": 14,
   "id": "552a1887-bdff-4717-bf76-fdd6f733d621",
   "metadata": {},
   "outputs": [
    {
     "data": {
      "text/plain": [
       "C1 X(2)'"
      ]
     },
     "execution_count": 14,
     "metadata": {},
     "output_type": "execute_result"
    }
   ],
   "source": [
    "Controlled(X(2),1)'"
   ]
  },
  {
   "cell_type": "markdown",
   "id": "758f101b-d77e-4028-80e1-aeaecefacfe4",
   "metadata": {},
   "source": [
    "## Matrices"
   ]
  },
  {
   "cell_type": "code",
   "execution_count": 15,
   "id": "6e1baf4e-9efb-4650-97cb-db7d7550dcb2",
   "metadata": {},
   "outputs": [
    {
     "data": {
      "text/plain": [
       "2×2 Matrix{Int64}:\n",
       " 0  1\n",
       " 1  0"
      ]
     },
     "execution_count": 15,
     "metadata": {},
     "output_type": "execute_result"
    }
   ],
   "source": [
    "matrix(X(1))"
   ]
  },
  {
   "cell_type": "code",
   "execution_count": 17,
   "id": "42c42cb5-244d-49ac-93ed-81177721fe08",
   "metadata": {},
   "outputs": [
    {
     "data": {
      "text/plain": [
       "4×4 Matrix{ComplexF64}:\n",
       " 0.334238+0.0im            0.0+0.0im       …       0.0-0.942489im\n",
       "      0.0+0.0im       0.334238+0.0im               0.0+0.0im\n",
       "      0.0+0.0im            0.0-0.942489im          0.0+0.0im\n",
       "      0.0-0.942489im       0.0+0.0im          0.334238+0.0im"
      ]
     },
     "execution_count": 17,
     "metadata": {},
     "output_type": "execute_result"
    }
   ],
   "source": [
    "matrix(IsingXX(1.23, [1,2]))"
   ]
  },
  {
   "cell_type": "markdown",
   "id": "c79f36ea-eadd-4168-984c-da8b601dca11",
   "metadata": {},
   "source": [
    "We can also have the matrix for our \"nested\" Operations:"
   ]
  },
  {
   "cell_type": "code",
   "execution_count": 18,
   "id": "bec0df66-78ae-4d97-91d8-25ee80858a4d",
   "metadata": {},
   "outputs": [
    {
     "data": {
      "text/plain": [
       "4×4 Matrix{ComplexF64}:\n",
       " 1.0+0.0im  0.0+0.0im       0.0+0.0im            0.0+0.0im\n",
       " 0.0+0.0im  1.0+0.0im       0.0+0.0im            0.0+0.0im\n",
       " 0.0+0.0im  0.0+0.0im  0.816773+0.0im            0.0-0.576959im\n",
       " 0.0+0.0im  0.0+0.0im       0.0-0.576959im  0.816773+0.0im"
      ]
     },
     "execution_count": 18,
     "metadata": {},
     "output_type": "execute_result"
    }
   ],
   "source": [
    "matrix(Controlled(RX(1.23,2), 1))"
   ]
  },
  {
   "cell_type": "code",
   "execution_count": 19,
   "id": "63c11d68-2b90-46fe-ba2f-859798733f6f",
   "metadata": {},
   "outputs": [
    {
     "data": {
      "text/plain": [
       "2×2 Matrix{ComplexF64}:\n",
       " 0.816773-0.0im            0.0+0.576959im\n",
       "      0.0+0.576959im  0.816773-0.0im"
      ]
     },
     "execution_count": 19,
     "metadata": {},
     "output_type": "execute_result"
    }
   ],
   "source": [
    "matrix(RX(1.23, 1)')"
   ]
  },
  {
   "cell_type": "markdown",
   "id": "da2039e8-82e5-483d-a31f-3f6479fd63b2",
   "metadata": {},
   "source": [
    "## Circuits\n",
    "\n",
    "Circuits are just Vectors of Operations.  They can be constructed by multiplying Operations together."
   ]
  },
  {
   "cell_type": "code",
   "execution_count": 20,
   "id": "c123bed7-c0e9-46a3-8deb-5615eaa89b5c",
   "metadata": {},
   "outputs": [
    {
     "data": {
      "text/plain": [
       "3-element Vector{Operation}:\n",
       " X(1)\n",
       " Y(2)\n",
       " Z(3)"
      ]
     },
     "execution_count": 20,
     "metadata": {},
     "output_type": "execute_result"
    }
   ],
   "source": [
    "X(1) * Y(2) * Z(3)"
   ]
  },
  {
   "cell_type": "code",
   "execution_count": 21,
   "id": "daad84c9-ce75-44c1-9822-8585f36971b9",
   "metadata": {},
   "outputs": [
    {
     "data": {
      "text/plain": [
       "7-element Vector{Operation}:\n",
       " RX(1.0, 1)\n",
       " RX(2.0, 2)\n",
       " RX(3.0, 3)\n",
       " RX(4.0, 4)\n",
       " C1 X(2)\n",
       " C2 X(3)\n",
       " C3 X(4)"
      ]
     },
     "execution_count": 21,
     "metadata": {},
     "output_type": "execute_result"
    }
   ],
   "source": [
    "circuit = [RX(i, i) for i in 1:4] * [Controlled(X(i+1), i) for i in 1:3]"
   ]
  },
  {
   "cell_type": "markdown",
   "id": "25cf9c63-c0b1-4877-a62c-9cadfa608f74",
   "metadata": {},
   "source": [
    "## Execution"
   ]
  },
  {
   "cell_type": "code",
   "execution_count": 22,
   "id": "7a62466b-6871-4384-b662-dee71c07bc9d",
   "metadata": {},
   "outputs": [
    {
     "data": {
      "text/plain": [
       "4-element Vector{ComplexF64}:\n",
       " 0.0 + 0.0im\n",
       " 0.0 + 0.0im\n",
       " 0.0 + 0.0im\n",
       " 1.0 + 0.0im"
      ]
     },
     "execution_count": 22,
     "metadata": {},
     "output_type": "execute_result"
    }
   ],
   "source": [
    "execute(X(1)*X(2))"
   ]
  },
  {
   "cell_type": "code",
   "execution_count": 23,
   "id": "1718bb1a-3e0a-4070-a6df-2db8f40bd745",
   "metadata": {},
   "outputs": [
    {
     "data": {
      "text/plain": [
       "16-element Vector{ComplexF64}:\n",
       " -0.013957874169854586 + 0.0im\n",
       "  0.011875578729124881 + 0.0im\n",
       "   0.30653809178679303 + 0.0im\n",
       "   0.10752644931961962 + 0.0im\n",
       "   -0.4300723179671388 + 0.0im\n",
       "   0.36591228786591046 + 0.0im\n",
       "  -0.04749861734999262 + 0.0im\n",
       " -0.016661412751235873 + 0.0im\n",
       "                   0.0 - 0.03049851146752055im\n",
       "                   0.0 + 0.025948612922438434im\n",
       "                   0.0 + 0.6697979501622612im\n",
       "                   0.0 + 0.2349495781183383im\n",
       "                   0.0 + 0.19682584523889993im\n",
       "                   0.0 - 0.16746252277508944im\n",
       "                   0.0 + 0.02173810105189266im\n",
       "                   0.0 + 0.00762522141191789im"
      ]
     },
     "execution_count": 23,
     "metadata": {},
     "output_type": "execute_result"
    }
   ],
   "source": [
    "execute(circuit)"
   ]
  },
  {
   "cell_type": "markdown",
   "id": "7826546c-55c4-491d-b5d4-4cb20a5bb442",
   "metadata": {},
   "source": [
    "You can perform executions with both `ComplexF64` and `ComplexF32`!"
   ]
  },
  {
   "cell_type": "code",
   "execution_count": 24,
   "id": "5acd60c7-d1c5-4d8c-8bf9-da49e82b52b8",
   "metadata": {},
   "outputs": [
    {
     "data": {
      "text/plain": [
       "16-element Vector{ComplexF32}:\n",
       " -0.013957873f0 + 0.0f0im\n",
       "  0.011875579f0 + 0.0f0im\n",
       "    0.3065381f0 + 0.0f0im\n",
       "   0.10752645f0 + 0.0f0im\n",
       "   -0.4300723f0 + 0.0f0im\n",
       "    0.3659123f0 + 0.0f0im\n",
       " -0.047498617f0 + 0.0f0im\n",
       " -0.016661413f0 + 0.0f0im\n",
       "          0.0f0 - 0.030498508f0im\n",
       "          0.0f0 + 0.025948614f0im\n",
       "          0.0f0 + 0.66979796f0im\n",
       "          0.0f0 + 0.23494957f0im\n",
       "          0.0f0 + 0.19682585f0im\n",
       "          0.0f0 - 0.16746253f0im\n",
       "          0.0f0 + 0.0217381f0im\n",
       "          0.0f0 + 0.0076252213f0im"
      ]
     },
     "execution_count": 24,
     "metadata": {},
     "output_type": "execute_result"
    }
   ],
   "source": [
    "execute(circuit, ComplexF32)"
   ]
  },
  {
   "cell_type": "code",
   "execution_count": null,
   "id": "c6b3eca3-a326-4019-a83a-f004f9a939d8",
   "metadata": {},
   "outputs": [],
   "source": []
  }
 ],
 "metadata": {
  "kernelspec": {
   "display_name": "Julia 1.6.0",
   "language": "julia",
   "name": "julia-1.6"
  },
  "language_info": {
   "file_extension": ".jl",
   "mimetype": "application/julia",
   "name": "julia",
   "version": "1.6.0"
  }
 },
 "nbformat": 4,
 "nbformat_minor": 5
}
